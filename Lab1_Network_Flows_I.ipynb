{
  "cells": [
    {
      "cell_type": "markdown",
      "metadata": {
        "id": "c-YcfxiQ4zdA"
      },
      "source": [
        "# MP305 Network Flow Models I"
      ]
    },
    {
      "cell_type": "code",
      "execution_count": 45,
      "metadata": {
        "id": "keMUeH9R4zdA"
      },
      "outputs": [],
      "source": [
        "from IPython.display import display, Math, Latex"
      ]
    },
    {
      "cell_type": "markdown",
      "metadata": {
        "id": "VeXygYUx4zdB"
      },
      "source": [
        "## Overview\n",
        "\n",
        "This file contains a number of Python functions for finding the maximal flow through a network $G$ subject to minimal cost using the Ford Fulkerson Algorithm.\n",
        "\n",
        "The network graph $G$ is stored in a set `G` of two element tuples `(i,j)` describing the directed arcs $(i,j)$ of $G$.\n",
        "\n",
        "It is assumed that node number $1$ is the source and the greatest node `Nsink` is the sink.  \n",
        "Thus `G={(1,2),(2,3),(1,3)}`  describes a network with 3 nodes where node 1 is the source and node 3 is the sink.\n",
        "\n",
        "The capacity $c(i,j)$, flow $\\phi(i,j)$ and cost $l(i,j)$ of the arc $(i,j)$ of $G$ are stored in `c[i][j]`, `phi[i][j]` and `l[i][j]`.\n",
        "Here `c`, `phi` and `l` are Python lists.\n",
        "\n",
        "## Python Functions\n",
        "### The `Initialise(G)` function\n",
        "Having defined the network $G$, initialise `c`, `phi` and `l` values to zero via the `Initialise` function before defining their values in any particular example.  The global variable `Nsink`,  the sink node of $G$, is also found by the `Initialise` function .\n",
        "\n",
        "### The main `Iterate(G)`function\n",
        "This implements the full algorithm to find the maximum flow with minimal cost."
      ]
    },
    {
      "cell_type": "code",
      "execution_count": 45,
      "metadata": {
        "id": "J2NX53Hh4zdB"
      },
      "outputs": [],
      "source": []
    },
    {
      "cell_type": "markdown",
      "metadata": {
        "id": "_9ZgFe9N4zdB"
      },
      "source": [
        "## The `Iterate(G)` function is based on a number of other Python functions:\n",
        "\n",
        "### `Flows(G)`\n",
        "This checks for conservation of flow and prints out all of the current flows for G and the total cost of this flow.\n",
        "\n",
        "###  `Links(G)`\n",
        "This finds all arcs `(i,j1)`, ` (i,j2)`,  ... *out* of node `i` of `G`.  The nodes `j1,j2,..` are stored in a global list of sets `Out`.\n",
        "\n",
        "###  `SourceSink(G)`\n",
        "This finds all of the paths from source to sink in any network `G` and results in a global set `SinkPaths` of such paths.\n",
        "\n",
        "###  `IncremNet(G)`\n",
        "This finds the Incremental Network `Gp` associated with the current flow of the network `G`.\n",
        "\n",
        "###  `Newflows(G)`\n",
        "This updates the flows `phi` of `G` according to the best chain found through `Gp`. If the maximal flow is reached, then this is indicated and the maximum flow value is outputed. Otherwise, the output is: the change in flow (`eps`), the cost of the best chain, and the best chain.\n",
        "\n",
        "###  `Iterate(G)`\n",
        "Implements the full algorithm to find the maximum flow with minimal cost.\n",
        "The output is as follows:\n",
        "\n",
        "(1) The incremental network `Gp`.\n",
        "\n",
        "(2) The paths through `Gp` from source to sink.\n",
        "\n",
        "(3) The output of `Newflows(G)`.\n",
        "\n",
        "(4) The output of `Flows(G)` giving the current flows and cost of `G`.\n"
      ]
    },
    {
      "cell_type": "code",
      "execution_count": 45,
      "metadata": {
        "id": "QqJ_UmL74zdB"
      },
      "outputs": [],
      "source": []
    },
    {
      "cell_type": "code",
      "execution_count": 2,
      "metadata": {
        "id": "DJrZmkmT4zdB"
      },
      "outputs": [],
      "source": [
        "def Initialise (Gin):\n",
        "    global c,phi,l,cp,lp,Nsink\n",
        "    Nsink=1\n",
        "    for arc in Gin:\n",
        "        i,j=arc\n",
        "        Nsink=max(Nsink,i,j)\n",
        "    # for convenience c[i][j] is capacity of arc [i,j]\n",
        "    c=[[0 for i in range(Nsink+1)] for j in range(Nsink+1)]\n",
        "    phi=[[0 for i in range(Nsink+1)] for j in range(Nsink+1)]\n",
        "    l=[[0 for i in range(Nsink+1)] for j in range(Nsink+1)]\n",
        "    cp=[[0 for i in range(Nsink+1)] for j in range(Nsink+1)]\n",
        "    lp=[[0 for i in range(Nsink+1)] for j in range(Nsink+1)]\n",
        "    print(\"All values of c,phi and l initialised to zero\")\n"
      ]
    },
    {
      "cell_type": "code",
      "execution_count": 3,
      "metadata": {
        "id": "SDBtLAyw4zdB"
      },
      "outputs": [],
      "source": [
        "def Flows (Gin):\n",
        "    global Nsink,l,phi\n",
        "    Flowin=[0 for i in range(Nsink+1)]\n",
        "    Flowout=[0 for i in range(Nsink+1)]\n",
        "    for arc in Gin:\n",
        "        i,j=arc\n",
        "        Flowin[j] = Flowin[j] + phi[i][j]\n",
        "        Flowout[i] = Flowout[i] + phi[i][j]\n",
        "    for k in range(2,Nsink):\n",
        "        if Flowin[k] != Flowout[k]:\n",
        "            print(\"*** ERROR *** Flow not conserved at node\", k)\n",
        "    if Flowout[1] != Flowin[Nsink]:\n",
        "        print(\"*** ERROR *** Flow not conserved at source or sink\")\n",
        "    Totalcost = 0\n",
        "    for arc in Gin:\n",
        "        i,j=arc\n",
        "        phi_ij = phi[i][j]\n",
        "        Totalcost = Totalcost + l[i][j]*phi_ij\n",
        "        print(arc,\" has flow \",phi_ij)\n",
        "    print(\"Total Cost is \", Totalcost)\n"
      ]
    },
    {
      "cell_type": "code",
      "execution_count": 4,
      "metadata": {
        "id": "q-fMrc-g4zdB"
      },
      "outputs": [],
      "source": [
        "def Links (Gin):\n",
        "    global Nsink,Out\n",
        "    Out=[set() for k in range(Nsink)] # labelled 0..Nsink-1\n",
        "    for arc in Gin:\n",
        "        i,j = arc\n",
        "        Out[i - 1] = Out[i - 1] | set([j])"
      ]
    },
    {
      "cell_type": "code",
      "execution_count": 5,
      "metadata": {
        "id": "ReXcXxfa4zdB"
      },
      "outputs": [],
      "source": [
        "def SourceSink(Gin):\n",
        "# finds all paths SinkPaths from source 1 to sink Nsink of network G\n",
        "    global Nsink,SinkPaths\n",
        "    Links(Gin)\n",
        "    Paths = set() # current paths from source stored as set of tuples\n",
        "    SinkPaths = set() # paths from source to sink Nsink stored as set of tuples\n",
        "    path = 1 # source node label\n",
        "    for node in Out[0]:# need out edge from node 1\n",
        "        pathn = (path,node)\n",
        "        if node == Nsink:\n",
        "            SinkPaths = SinkPaths | set([pathn])\n",
        "        else:\n",
        "            Paths = Paths | set([pathn])\n",
        "    Npaths = len(Paths)\n",
        "    while (0 < Npaths):\n",
        "        NewPaths = set()\n",
        "        for oldpath in Paths:\n",
        "            nold = len(oldpath)\n",
        "            m = oldpath[-1] # last node in tuple oldpath\n",
        "            for mout in Out[m-1]:\n",
        "                if not mout in oldpath:\n",
        "                    if mout == Nsink:\n",
        "                        SinkPaths = SinkPaths | set([oldpath+tuple([Nsink])])\n",
        "                    else:\n",
        "                        NewPaths = NewPaths | set([oldpath+tuple([mout])])\n",
        "        Paths = NewPaths\n",
        "        Npaths = len(Paths)\n",
        "    print(\"Paths from source to sink: \",SinkPaths)"
      ]
    },
    {
      "cell_type": "code",
      "execution_count": 6,
      "metadata": {
        "id": "8fWPKpWs4zdB"
      },
      "outputs": [],
      "source": [
        "def IncremNet(Gin):\n",
        "# procedure to create incremental network Gp from given flow network G\n",
        "    global Gp,Nsink,phi,c,l,cp,lp,ArcSign\n",
        "# define lists for ArcSign, cp and lp  (indexed by 0..Nsink-1)\n",
        "    cp=[[0 for i in range(Nsink+1)] for j in range(Nsink+1)]\n",
        "    lp=[[0 for i in range(Nsink+1)] for j in range(Nsink+1)]\n",
        "    ArcSign=[[0 for i in range(Nsink+1)] for j in range(Nsink+1)]\n",
        "    Gp=set([])\n",
        "    for arc in Gin:\n",
        "        i,j=arc\n",
        "        pij = phi[i][j]; pji = phi[j][i]; cij = c[i][j]; lij = l[i][j]\n",
        "        if (pij < cij and (pji == 0 or not (j,i) in Gin)): # ij arc\n",
        "            #Gp edges, capacitites and costs added\n",
        "            cpij = cij - pij; cp[i][j] = cpij; lpij = lij; lp[i][j] =lpij\n",
        "            ArcSign[i][j] = 1\n",
        "            Gp=Gp | {(i,j)}\n",
        "        if pij>0: # ji arc\n",
        "            cpji = pij; cp[j][i] = cpji; lpji=-lij; lp[j][i] = lpji\n",
        "            ArcSign[j][i] = -1\n",
        "            Gp=Gp | {(j,i)}\n",
        "    print(\"Incremental Network:\",Gp)"
      ]
    },
    {
      "cell_type": "code",
      "execution_count": 7,
      "metadata": {
        "id": "SN5fuS174zdB"
      },
      "outputs": [],
      "source": [
        "def Newflows(Gin):\n",
        "# A procedure to modify original flows on Gin along SinkPaths of Gp with minimal cost\n",
        "    global Gp,phi,c,l,cp,lp,ArcSign,Out\n",
        "    SourceSink(Gp)\n",
        "    if SinkPaths == set():\n",
        "        Links(Gin)\n",
        "        Flow = 0\n",
        "        for node in Out[0]:\n",
        "            Flow = Flow + phi[1][node]\n",
        "        Cost=0\n",
        "        for arc in Gin:\n",
        "            i,j=arc\n",
        "            Cost=Cost+l[i][j]*phi[i][j]\n",
        "        print(\"Maximal flow found:\", Flow, \" with minimal cost \", Cost)\n",
        "    else:\n",
        "        for k in range(len(SinkPaths)):\n",
        "            cost = 0\n",
        "            epset = set()\n",
        "            path=list(SinkPaths)[k]\n",
        "            for n in range(0, len(path)-1):\n",
        "                i = path[n]; j = path[n+1];  epset = epset | set([cp[i][j]]); cost = lp[i][j] + cost\n",
        "            eps = min(tuple(epset))\n",
        "            if k == 0: # first path\n",
        "                mincost = cost; bestpath = path; besteps = eps\n",
        "            elif cost < mincost:\n",
        "                mincost = cost; bestpath = path; besteps = eps\n",
        "        print(\"A best path in Gp is \", bestpath, \" of minimum cost \", mincost)\n",
        "        print(\"The min capacity on this path is epsilon \", besteps)\n",
        "        print(\"The min cost is \", mincost)\n",
        "        for k in range(0, len(bestpath) - 1):\n",
        "            i = bestpath[k]; j = bestpath[k+1]\n",
        "            if ArcSign[i][j] == 1:\n",
        "                phinewij = phi[i][j] + besteps; phi[i][j]=phinewij\n",
        "            else:\n",
        "                phinewji=phi[j][i] = phi[j][i] - besteps; phi[j][i]=phinewji\n",
        "    #print(\"Flow=\",Flow)"
      ]
    },
    {
      "cell_type": "code",
      "execution_count": 8,
      "metadata": {
        "id": "ui3bZSG84zdB"
      },
      "outputs": [],
      "source": [
        "def Iterate(Gin):\n",
        "    IncremNet(Gin)\n",
        "    Newflows(Gin)\n",
        "    for arc in Gin:\n",
        "        i,j=arc\n",
        "        print((i,j),\" flow = \", phi[i][j])"
      ]
    },
    {
      "cell_type": "code",
      "execution_count": 52,
      "metadata": {
        "id": "G7hat3kh4zdB"
      },
      "outputs": [],
      "source": []
    },
    {
      "cell_type": "code",
      "execution_count": 52,
      "metadata": {
        "id": "ZsJX9NNv4zdC"
      },
      "outputs": [],
      "source": []
    },
    {
      "cell_type": "markdown",
      "metadata": {
        "id": "Z4S3lM-b4zdC"
      },
      "source": [
        "# Example 1. The first example discussed in lectures.\n",
        "## The capacity $c(i,j)$ and flow $\\phi(i,j)$ are shown on each arc $(i,j)$\n",
        "\n",
        "![Network](https://github.com/mcgettrick/mp305/blob/main/Lab1_1.jpg?raw=1)\n"
      ]
    },
    {
      "cell_type": "markdown",
      "metadata": {
        "id": "8vXjGUKf4zdC"
      },
      "source": [
        "### \\* Find the incremental network and capacities at each iteration of the Ford Fulkerson algorithm.\n",
        "### \\* In the last iteration when the maximal flow is found,  identify which arcs are normal and which are inverted in the incremental network.\n",
        "### \\* Hence find the minimal capacity cut of this network flow model."
      ]
    },
    {
      "cell_type": "code",
      "execution_count": 53,
      "metadata": {
        "id": "_UkVa0Ja4zdC"
      },
      "outputs": [],
      "source": [
        "G={(1,2),(1,3),(2,3),(2,4),(2,5),(3,5),(4,6),(5,4),(5,6)}"
      ]
    },
    {
      "cell_type": "code",
      "execution_count": 54,
      "metadata": {
        "colab": {
          "base_uri": "https://localhost:8080/"
        },
        "id": "3XPJ2j244zdC",
        "outputId": "2920e6c0-aac1-47fe-84d0-1388fe2b3dfb"
      },
      "outputs": [
        {
          "output_type": "stream",
          "name": "stdout",
          "text": [
            "All values of c,phi and l initialised to zero\n"
          ]
        }
      ],
      "source": [
        "Initialise (G)"
      ]
    },
    {
      "cell_type": "code",
      "execution_count": 55,
      "metadata": {
        "colab": {
          "base_uri": "https://localhost:8080/"
        },
        "id": "pC7wMOhf4zdC",
        "outputId": "6029be84-6915-40b7-aded-ba61765d7544"
      },
      "outputs": [
        {
          "output_type": "stream",
          "name": "stdout",
          "text": [
            "(2, 4)  has flow  0\n",
            "(1, 2)  has flow  0\n",
            "(5, 4)  has flow  0\n",
            "(4, 6)  has flow  0\n",
            "(2, 3)  has flow  0\n",
            "(5, 6)  has flow  0\n",
            "(2, 5)  has flow  0\n",
            "(1, 3)  has flow  0\n",
            "(3, 5)  has flow  0\n",
            "Total Cost is  0\n"
          ]
        }
      ],
      "source": [
        "Flows(G)"
      ]
    },
    {
      "cell_type": "markdown",
      "metadata": {
        "id": "D0qUDaQy4zdC"
      },
      "source": [
        "## Define Capacities"
      ]
    },
    {
      "cell_type": "code",
      "execution_count": 56,
      "metadata": {
        "id": "63rXTT214zdC"
      },
      "outputs": [],
      "source": [
        "c[1][2] = 4; c[1][3] = 5; c[2][3] = 2\n",
        "c[2][4] = 1; c[2][5] = 4; c[3][5] = 3\n",
        "c[4][6] = 2; c[5][4] = 2; c[5][6] = 6"
      ]
    },
    {
      "cell_type": "markdown",
      "metadata": {
        "id": "wTqtoXUN4zdC"
      },
      "source": [
        "## Define Flows"
      ]
    },
    {
      "cell_type": "code",
      "execution_count": 57,
      "metadata": {
        "id": "d6hTRUif4zdC"
      },
      "outputs": [],
      "source": [
        "phi[1][2]=4; phi[1][3]=1; phi[2][3]=2; phi[2][4]=1; phi[2][5]=1\n",
        "phi[3][5]=3; phi[4][6]=2; phi[5][4]=1; phi[5][6]=3"
      ]
    },
    {
      "cell_type": "code",
      "execution_count": 58,
      "metadata": {
        "colab": {
          "base_uri": "https://localhost:8080/"
        },
        "id": "hzA6f_LT4zdC",
        "outputId": "588e1f4a-5f70-4da0-8f32-153e3ca98378"
      },
      "outputs": [
        {
          "output_type": "stream",
          "name": "stdout",
          "text": [
            "(2, 4)  has flow  1\n",
            "(1, 2)  has flow  4\n",
            "(5, 4)  has flow  1\n",
            "(4, 6)  has flow  2\n",
            "(2, 3)  has flow  2\n",
            "(5, 6)  has flow  3\n",
            "(2, 5)  has flow  1\n",
            "(1, 3)  has flow  1\n",
            "(3, 5)  has flow  3\n",
            "Total Cost is  0\n"
          ]
        }
      ],
      "source": [
        "Flows(G)"
      ]
    },
    {
      "cell_type": "markdown",
      "metadata": {
        "id": "v9bprca24zdC"
      },
      "source": [
        "## Use `Iterate` to run one iteration of the Ford Fulkerson Algorithm"
      ]
    },
    {
      "cell_type": "code",
      "execution_count": 59,
      "metadata": {
        "colab": {
          "base_uri": "https://localhost:8080/"
        },
        "id": "O1vBAIqK4zdC",
        "outputId": "4bd49b81-7f09-4be8-d5d4-e4b8d2d3914c"
      },
      "outputs": [
        {
          "output_type": "stream",
          "name": "stdout",
          "text": [
            "Incremental Network: {(2, 1), (6, 5), (3, 1), (5, 4), (6, 4), (4, 2), (4, 5), (5, 6), (5, 3), (3, 2), (2, 5), (1, 3), (5, 2)}\n",
            "Paths from source to sink:  {(1, 3, 2, 5, 6)}\n",
            "A best path in Gp is  (1, 3, 2, 5, 6)  of minimum cost  0\n",
            "The min capacity on this path is epsilon  2\n",
            "The min cost is  0\n",
            "(2, 4)  flow =  1\n",
            "(1, 2)  flow =  4\n",
            "(5, 4)  flow =  1\n",
            "(4, 6)  flow =  2\n",
            "(2, 3)  flow =  0\n",
            "(5, 6)  flow =  5\n",
            "(2, 5)  flow =  3\n",
            "(1, 3)  flow =  3\n",
            "(3, 5)  flow =  3\n"
          ]
        }
      ],
      "source": [
        "Iterate(G)"
      ]
    },
    {
      "cell_type": "code",
      "execution_count": 60,
      "metadata": {
        "colab": {
          "base_uri": "https://localhost:8080/"
        },
        "id": "biYFoiO14zdC",
        "outputId": "f3e6e22a-ee06-47e4-ad7d-d1f020668120"
      },
      "outputs": [
        {
          "output_type": "stream",
          "name": "stdout",
          "text": [
            "Incremental Network: {(2, 1), (6, 5), (3, 1), (5, 4), (6, 4), (4, 2), (2, 3), (4, 5), (5, 6), (5, 3), (2, 5), (1, 3), (5, 2)}\n",
            "Paths from source to sink:  set()\n",
            "Maximal flow found: 7  with minimal cost  0\n",
            "(2, 4)  flow =  1\n",
            "(1, 2)  flow =  4\n",
            "(5, 4)  flow =  1\n",
            "(4, 6)  flow =  2\n",
            "(2, 3)  flow =  0\n",
            "(5, 6)  flow =  5\n",
            "(2, 5)  flow =  3\n",
            "(1, 3)  flow =  3\n",
            "(3, 5)  flow =  3\n"
          ]
        }
      ],
      "source": [
        "Iterate(G)"
      ]
    },
    {
      "cell_type": "code",
      "execution_count": 61,
      "metadata": {
        "colab": {
          "base_uri": "https://localhost:8080/"
        },
        "id": "GFyuGpnz4zdC",
        "outputId": "6388fa9f-5280-4df5-cefa-9cbda74afacd"
      },
      "outputs": [
        {
          "output_type": "stream",
          "name": "stdout",
          "text": [
            "Incremental Network: {(2, 1), (6, 5), (3, 1), (5, 4), (6, 4), (4, 2), (2, 3), (4, 5), (5, 6), (5, 3), (2, 5), (1, 3), (5, 2)}\n",
            "Paths from source to sink:  set()\n",
            "Maximal flow found: 7  with minimal cost  0\n",
            "(2, 4)  flow =  1\n",
            "(1, 2)  flow =  4\n",
            "(5, 4)  flow =  1\n",
            "(4, 6)  flow =  2\n",
            "(2, 3)  flow =  0\n",
            "(5, 6)  flow =  5\n",
            "(2, 5)  flow =  3\n",
            "(1, 3)  flow =  3\n",
            "(3, 5)  flow =  3\n"
          ]
        }
      ],
      "source": [
        "Iterate(G)"
      ]
    },
    {
      "cell_type": "code",
      "execution_count": 61,
      "metadata": {
        "id": "ciNG7xLE4zdC"
      },
      "outputs": [],
      "source": [
        "# Normal arcs: (5,4), (2,3), (5,6), (2,5), (1,3)\n",
        "# Inverted arcs: (2,1), (6,5), (3,1), (6,4), (4,2), (4,5), (5,3), (5,2)\n",
        "\n",
        "# Minimum cut : 7"
      ]
    },
    {
      "cell_type": "markdown",
      "metadata": {
        "id": "4PFe2Qbx4zdC"
      },
      "source": [
        "## In the following two problems, first define the network and  its capacities following the template of problem 1 and then run the `Python`|code.\n",
        "\n",
        "\n"
      ]
    },
    {
      "cell_type": "markdown",
      "metadata": {
        "id": "x6_TLuFD4zdC"
      },
      "source": [
        "## Q.2 (*) . Find the maximal flow through the following network with the given capacities:\n",
        "![Network](https://github.com/mcgettrick/mp305/blob/main/Lab1_2.jpg?raw=1)"
      ]
    },
    {
      "cell_type": "code",
      "execution_count": 62,
      "metadata": {
        "colab": {
          "base_uri": "https://localhost:8080/"
        },
        "id": "uWdd2Oqr4zdC",
        "outputId": "a2caf4c9-cbab-4d00-da6b-522f70fdaf6d"
      },
      "outputs": [
        {
          "output_type": "stream",
          "name": "stdout",
          "text": [
            "All values of c,phi and l initialised to zero\n"
          ]
        }
      ],
      "source": [
        "G={(1,2),(1,3),(2,3),(3,2),(3,4),(4,2),(4,5),(2,5)}\n",
        "Initialise (G)"
      ]
    },
    {
      "cell_type": "markdown",
      "metadata": {
        "id": "9GwnsbV84zdC"
      },
      "source": [
        "##  Define the network `G` and the capacities `c[i][j]` for the given data and follow the same sequence of steps as for Q.1 with zero initial flow.\n",
        "### \\* Set the initial flow to zero at each arc and find the incremental network and capacities at each iteration of the Ford-Fulkerson algorithm.\n",
        "### \\* In the last iteration when the maximal flow is found,  identify which arcs are normal and which are inverted in the incremental network.\n",
        "### \\* Hence find the minimal capacity cut of this network flow model."
      ]
    },
    {
      "cell_type": "code",
      "execution_count": 63,
      "metadata": {
        "id": "myR1WH3v4zdC"
      },
      "outputs": [],
      "source": [
        "c[1][2] = 2; c[1][3] = 4; c[2][3] = 1\n",
        "c[3][2] = 4; c[3][4] = 2; c[4][2] = 2\n",
        "c[4][5] = 3; c[2][5] = 3;"
      ]
    },
    {
      "cell_type": "code",
      "execution_count": 64,
      "metadata": {
        "id": "pY6iY-k94zdC"
      },
      "outputs": [],
      "source": [
        "phi[1][2] = 0; phi[1][3] = 0; phi[2][3] = 0\n",
        "phi[3][2] = 0; phi[3][4] = 0; phi[4][2] = 0\n",
        "phi[4][5] = 0; phi[2][5] = 0"
      ]
    },
    {
      "cell_type": "code",
      "source": [
        "Flows(G)"
      ],
      "metadata": {
        "colab": {
          "base_uri": "https://localhost:8080/"
        },
        "id": "UcnXEQdmW9s4",
        "outputId": "6e0975b4-253b-41cc-f4b0-ebfc15a185d2"
      },
      "execution_count": 65,
      "outputs": [
        {
          "output_type": "stream",
          "name": "stdout",
          "text": [
            "(1, 2)  has flow  0\n",
            "(3, 4)  has flow  0\n",
            "(4, 2)  has flow  0\n",
            "(2, 3)  has flow  0\n",
            "(4, 5)  has flow  0\n",
            "(3, 2)  has flow  0\n",
            "(2, 5)  has flow  0\n",
            "(1, 3)  has flow  0\n",
            "Total Cost is  0\n"
          ]
        }
      ]
    },
    {
      "cell_type": "code",
      "source": [
        "Iterate(G)"
      ],
      "metadata": {
        "colab": {
          "base_uri": "https://localhost:8080/"
        },
        "id": "HhhV1hPNW-ZL",
        "outputId": "7d5d71e5-1fa8-4616-d838-00bbbfe71cfb"
      },
      "execution_count": 66,
      "outputs": [
        {
          "output_type": "stream",
          "name": "stdout",
          "text": [
            "Incremental Network: {(2, 3), (4, 5), (1, 2), (3, 4), (3, 2), (2, 5), (1, 3), (4, 2)}\n",
            "Paths from source to sink:  {(1, 3, 4, 2, 5), (1, 3, 4, 5), (1, 2, 5), (1, 2, 3, 4, 5), (1, 3, 2, 5)}\n",
            "A best path in Gp is  (1, 3, 4, 2, 5)  of minimum cost  0\n",
            "The min capacity on this path is epsilon  2\n",
            "The min cost is  0\n",
            "(1, 2)  flow =  0\n",
            "(3, 4)  flow =  2\n",
            "(4, 2)  flow =  2\n",
            "(2, 3)  flow =  0\n",
            "(4, 5)  flow =  0\n",
            "(3, 2)  flow =  0\n",
            "(2, 5)  flow =  2\n",
            "(1, 3)  flow =  2\n"
          ]
        }
      ]
    },
    {
      "cell_type": "code",
      "source": [
        "Iterate(G)"
      ],
      "metadata": {
        "colab": {
          "base_uri": "https://localhost:8080/"
        },
        "id": "Iz4Us1NVXHBC",
        "outputId": "7fd0b7ed-9cec-4c0a-9a06-6c271dbf7737"
      },
      "execution_count": 67,
      "outputs": [
        {
          "output_type": "stream",
          "name": "stdout",
          "text": [
            "Incremental Network: {(2, 4), (1, 2), (4, 3), (3, 1), (2, 3), (4, 5), (3, 2), (2, 5), (1, 3), (5, 2)}\n",
            "Paths from source to sink:  {(1, 3, 2, 5), (1, 3, 2, 4, 5), (1, 2, 4, 5), (1, 2, 5)}\n",
            "A best path in Gp is  (1, 3, 2, 5)  of minimum cost  0\n",
            "The min capacity on this path is epsilon  1\n",
            "The min cost is  0\n",
            "(1, 2)  flow =  0\n",
            "(3, 4)  flow =  2\n",
            "(4, 2)  flow =  2\n",
            "(2, 3)  flow =  0\n",
            "(4, 5)  flow =  0\n",
            "(3, 2)  flow =  1\n",
            "(2, 5)  flow =  3\n",
            "(1, 3)  flow =  3\n"
          ]
        }
      ]
    },
    {
      "cell_type": "code",
      "source": [
        "Iterate(G)"
      ],
      "metadata": {
        "colab": {
          "base_uri": "https://localhost:8080/"
        },
        "id": "VJ_Ba2qiXUXN",
        "outputId": "488181ad-c71c-41b2-dabb-f9aff15a0acc"
      },
      "execution_count": 68,
      "outputs": [
        {
          "output_type": "stream",
          "name": "stdout",
          "text": [
            "Incremental Network: {(2, 4), (1, 2), (4, 3), (3, 1), (2, 3), (4, 5), (3, 2), (1, 3), (5, 2)}\n",
            "Paths from source to sink:  {(1, 3, 2, 4, 5), (1, 2, 4, 5)}\n",
            "A best path in Gp is  (1, 3, 2, 4, 5)  of minimum cost  0\n",
            "The min capacity on this path is epsilon  1\n",
            "The min cost is  0\n",
            "(1, 2)  flow =  0\n",
            "(3, 4)  flow =  2\n",
            "(4, 2)  flow =  1\n",
            "(2, 3)  flow =  0\n",
            "(4, 5)  flow =  1\n",
            "(3, 2)  flow =  2\n",
            "(2, 5)  flow =  3\n",
            "(1, 3)  flow =  4\n"
          ]
        }
      ]
    },
    {
      "cell_type": "code",
      "source": [
        "Iterate(G)"
      ],
      "metadata": {
        "colab": {
          "base_uri": "https://localhost:8080/"
        },
        "id": "X7BgLS26YZsc",
        "outputId": "d860a291-769c-41d8-ffe7-a8789e3d2666"
      },
      "execution_count": 69,
      "outputs": [
        {
          "output_type": "stream",
          "name": "stdout",
          "text": [
            "Incremental Network: {(2, 4), (1, 2), (4, 3), (3, 1), (5, 4), (4, 2), (2, 3), (4, 5), (3, 2), (5, 2)}\n",
            "Paths from source to sink:  {(1, 2, 4, 5)}\n",
            "A best path in Gp is  (1, 2, 4, 5)  of minimum cost  0\n",
            "The min capacity on this path is epsilon  1\n",
            "The min cost is  0\n",
            "(1, 2)  flow =  1\n",
            "(3, 4)  flow =  2\n",
            "(4, 2)  flow =  0\n",
            "(2, 3)  flow =  0\n",
            "(4, 5)  flow =  2\n",
            "(3, 2)  flow =  2\n",
            "(2, 5)  flow =  3\n",
            "(1, 3)  flow =  4\n"
          ]
        }
      ]
    },
    {
      "cell_type": "code",
      "source": [
        "Iterate(G)"
      ],
      "metadata": {
        "colab": {
          "base_uri": "https://localhost:8080/"
        },
        "id": "Ga5M3gukYcmt",
        "outputId": "c731940c-56c3-4064-884c-9653f01f2390"
      },
      "execution_count": 70,
      "outputs": [
        {
          "output_type": "stream",
          "name": "stdout",
          "text": [
            "Incremental Network: {(1, 2), (2, 1), (4, 3), (3, 1), (5, 4), (4, 2), (2, 3), (4, 5), (3, 2), (5, 2)}\n",
            "Paths from source to sink:  set()\n",
            "Maximal flow found: 5  with minimal cost  0\n",
            "(1, 2)  flow =  1\n",
            "(3, 4)  flow =  2\n",
            "(4, 2)  flow =  0\n",
            "(2, 3)  flow =  0\n",
            "(4, 5)  flow =  2\n",
            "(3, 2)  flow =  2\n",
            "(2, 5)  flow =  3\n",
            "(1, 3)  flow =  4\n"
          ]
        }
      ]
    },
    {
      "cell_type": "code",
      "source": [
        "# Normal arcs: (1,2), (4,5), (4,2), (2,3), (3,2)\n",
        "# Inverted arcs: (2,1), (4,3), (3,1), (5,4), (5,2)\n",
        "\n",
        "#Minimum cut = 5"
      ],
      "metadata": {
        "id": "y7j-wfRBH5kG"
      },
      "execution_count": null,
      "outputs": []
    },
    {
      "cell_type": "markdown",
      "metadata": {
        "id": "uObKTk9m4zdC"
      },
      "source": [
        "## Q.3 (*) A road network is shown below with the capacity on each road indicated. Notice that many roads are two way.\n",
        "![Network](https://github.com/mcgettrick/mp305/blob/main/Lab1_3.jpg?raw=1)\n",
        "### \\* Find the maximal flow through the network from `A` to `B`.\n",
        "### \\* Compare this to maximal flow from `B`  to `A` ."
      ]
    },
    {
      "cell_type": "code",
      "execution_count": 20,
      "metadata": {
        "colab": {
          "base_uri": "https://localhost:8080/"
        },
        "id": "3hsVIdRV4zdC",
        "outputId": "2f8c8bce-8553-456b-cfdf-6f6bb556e9d9"
      },
      "outputs": [
        {
          "output_type": "stream",
          "name": "stdout",
          "text": [
            "All values of c,phi and l initialised to zero\n"
          ]
        }
      ],
      "source": [
        "G={(1,2),(2,1),(2,5),\n",
        "   (1,3),(3,1),\n",
        "   (4,6),(6,4),(4,2),\n",
        "   (3,4),(4,3),(3,7),\n",
        "   (7,8),(8,7),(7,6),\n",
        "   (5,8),(8,5),(5,6)\n",
        "   }\n",
        "Initialise(G)"
      ]
    },
    {
      "cell_type": "code",
      "execution_count": 21,
      "metadata": {
        "id": "Iq5pPV1l4zdC"
      },
      "outputs": [],
      "source": [
        "c[1][2] = 5; c[2][1] = 5; c[1][3] = 4\n",
        "c[3][1] = 4; c[2][5] = 3; c[4][6] = 5\n",
        "c[6][4] = 5; c[4][2] = 4; c[3][4] = 5\n",
        "c[4][3] = 5; c[3][7] = 3; c[7][8] = 4\n",
        "c[8][7] = 4; c[7][6] = 4; c[5][8] = 6\n",
        "c[8][5] = 6; c[5][6] = 2;"
      ]
    },
    {
      "cell_type": "code",
      "execution_count": 73,
      "metadata": {
        "id": "9-N_Qkko4zdC"
      },
      "outputs": [],
      "source": [
        "phi[0][1] = 0; phi[0][2] = 0; phi[2][0] = 0\n",
        "phi[1][0] = 0; phi[1][5] = 0; phi[2][3] = 0\n",
        "phi[3][2] = 0; phi[3][4] = 0; phi[4][3] = 0\n",
        "phi[2][6] = 0; phi[6][4] = 0; phi[5][4] = 0\n",
        "phi[7][5] = 0; phi[5][7] = 0; phi[7][6] = 0\n",
        "phi[3][1] = 0; phi[6][7] = 0;"
      ]
    },
    {
      "cell_type": "code",
      "source": [
        "Flows(G)"
      ],
      "metadata": {
        "colab": {
          "base_uri": "https://localhost:8080/"
        },
        "id": "cJXT8g9JmvZD",
        "outputId": "6aece7bb-737c-41a3-de2c-4bc925e974a2"
      },
      "execution_count": 22,
      "outputs": [
        {
          "output_type": "stream",
          "name": "stdout",
          "text": [
            "(1, 2)  has flow  0\n",
            "(2, 1)  has flow  0\n",
            "(3, 4)  has flow  0\n",
            "(4, 3)  has flow  0\n",
            "(3, 1)  has flow  0\n",
            "(3, 7)  has flow  0\n",
            "(4, 6)  has flow  0\n",
            "(6, 4)  has flow  0\n",
            "(7, 6)  has flow  0\n",
            "(2, 5)  has flow  0\n",
            "(1, 3)  has flow  0\n",
            "(5, 8)  has flow  0\n",
            "(8, 7)  has flow  0\n",
            "(4, 2)  has flow  0\n",
            "(5, 6)  has flow  0\n",
            "(8, 5)  has flow  0\n",
            "(7, 8)  has flow  0\n",
            "Total Cost is  0\n"
          ]
        }
      ]
    },
    {
      "cell_type": "code",
      "source": [
        "Iterate(G)"
      ],
      "metadata": {
        "colab": {
          "base_uri": "https://localhost:8080/"
        },
        "id": "nTmqAOaBm6Kn",
        "outputId": "32153d54-f85b-40de-cf24-7d48df3b5f5b"
      },
      "execution_count": 23,
      "outputs": [
        {
          "output_type": "stream",
          "name": "stdout",
          "text": [
            "Incremental Network: {(1, 2), (2, 1), (3, 4), (4, 3), (3, 1), (3, 7), (4, 6), (6, 4), (7, 6), (2, 5), (1, 3), (5, 8), (8, 7), (4, 2), (5, 6), (8, 5), (7, 8)}\n",
            "Paths from source to sink:  {(1, 3, 7, 8), (1, 2, 5, 8), (1, 2, 5, 6, 4, 3, 7, 8), (1, 3, 7, 6, 4, 2, 5, 8), (1, 3, 4, 2, 5, 8)}\n",
            "A best path in Gp is  (1, 3, 7, 8)  of minimum cost  0\n",
            "The min capacity on this path is epsilon  3\n",
            "The min cost is  0\n",
            "(1, 2)  flow =  0\n",
            "(2, 1)  flow =  0\n",
            "(3, 4)  flow =  0\n",
            "(4, 3)  flow =  0\n",
            "(3, 1)  flow =  0\n",
            "(3, 7)  flow =  3\n",
            "(4, 6)  flow =  0\n",
            "(6, 4)  flow =  0\n",
            "(7, 6)  flow =  0\n",
            "(2, 5)  flow =  0\n",
            "(1, 3)  flow =  3\n",
            "(5, 8)  flow =  0\n",
            "(8, 7)  flow =  0\n",
            "(4, 2)  flow =  0\n",
            "(5, 6)  flow =  0\n",
            "(8, 5)  flow =  0\n",
            "(7, 8)  flow =  3\n"
          ]
        }
      ]
    },
    {
      "cell_type": "code",
      "source": [
        "Iterate(G)"
      ],
      "metadata": {
        "colab": {
          "base_uri": "https://localhost:8080/"
        },
        "id": "uPaoNk2xm7B9",
        "outputId": "5c39f874-fed8-41cb-930b-45e4678196e0"
      },
      "execution_count": 24,
      "outputs": [
        {
          "output_type": "stream",
          "name": "stdout",
          "text": [
            "Incremental Network: {(1, 2), (2, 1), (3, 4), (4, 3), (3, 1), (4, 6), (6, 4), (7, 3), (7, 6), (2, 5), (1, 3), (5, 8), (8, 7), (4, 2), (5, 6), (8, 5), (7, 8)}\n",
            "Paths from source to sink:  {(1, 2, 5, 8), (1, 3, 4, 2, 5, 8)}\n",
            "A best path in Gp is  (1, 2, 5, 8)  of minimum cost  0\n",
            "The min capacity on this path is epsilon  3\n",
            "The min cost is  0\n",
            "(1, 2)  flow =  3\n",
            "(2, 1)  flow =  0\n",
            "(3, 4)  flow =  0\n",
            "(4, 3)  flow =  0\n",
            "(3, 1)  flow =  0\n",
            "(3, 7)  flow =  3\n",
            "(4, 6)  flow =  0\n",
            "(6, 4)  flow =  0\n",
            "(7, 6)  flow =  0\n",
            "(2, 5)  flow =  3\n",
            "(1, 3)  flow =  3\n",
            "(5, 8)  flow =  3\n",
            "(8, 7)  flow =  0\n",
            "(4, 2)  flow =  0\n",
            "(5, 6)  flow =  0\n",
            "(8, 5)  flow =  0\n",
            "(7, 8)  flow =  3\n"
          ]
        }
      ]
    },
    {
      "cell_type": "code",
      "source": [
        "Iterate(G)"
      ],
      "metadata": {
        "colab": {
          "base_uri": "https://localhost:8080/"
        },
        "id": "dC71OQNym8Dg",
        "outputId": "a7561f3a-d671-42dc-f242-d176e4c985ed"
      },
      "execution_count": 25,
      "outputs": [
        {
          "output_type": "stream",
          "name": "stdout",
          "text": [
            "Incremental Network: {(1, 2), (2, 1), (3, 4), (4, 3), (3, 1), (4, 6), (6, 4), (7, 3), (7, 6), (1, 3), (5, 2), (5, 8), (8, 7), (4, 2), (5, 6), (8, 5), (7, 8)}\n",
            "Paths from source to sink:  set()\n",
            "Maximal flow found: 6  with minimal cost  0\n",
            "(1, 2)  flow =  3\n",
            "(2, 1)  flow =  0\n",
            "(3, 4)  flow =  0\n",
            "(4, 3)  flow =  0\n",
            "(3, 1)  flow =  0\n",
            "(3, 7)  flow =  3\n",
            "(4, 6)  flow =  0\n",
            "(6, 4)  flow =  0\n",
            "(7, 6)  flow =  0\n",
            "(2, 5)  flow =  3\n",
            "(1, 3)  flow =  3\n",
            "(5, 8)  flow =  3\n",
            "(8, 7)  flow =  0\n",
            "(4, 2)  flow =  0\n",
            "(5, 6)  flow =  0\n",
            "(8, 5)  flow =  0\n",
            "(7, 8)  flow =  3\n"
          ]
        }
      ]
    },
    {
      "cell_type": "code",
      "source": [
        "#Reverse flow from B to A\n",
        "Grev={(1,2),(2,1),(1,4),(4,1),(2,5),(5,2),(4,5),(5,6),(6,5),(6,7),(7,6),(6,3),(7,8),(8,7),(8,3),(3,8),(7,4)}\n",
        "Initialise(Grev)\n",
        "Flows(Grev)"
      ],
      "metadata": {
        "colab": {
          "base_uri": "https://localhost:8080/"
        },
        "id": "bx1myMsgUuTt",
        "outputId": "72a79cbd-1276-483e-a1ed-f23d180cea56"
      },
      "execution_count": 32,
      "outputs": [
        {
          "output_type": "stream",
          "name": "stdout",
          "text": [
            "All values of c,phi and l initialised to zero\n",
            "(1, 2)  has flow  0\n",
            "(2, 1)  has flow  0\n",
            "(6, 7)  has flow  0\n",
            "(8, 3)  has flow  0\n",
            "(7, 6)  has flow  0\n",
            "(2, 5)  has flow  0\n",
            "(4, 1)  has flow  0\n",
            "(5, 2)  has flow  0\n",
            "(7, 4)  has flow  0\n",
            "(3, 8)  has flow  0\n",
            "(6, 5)  has flow  0\n",
            "(8, 7)  has flow  0\n",
            "(1, 4)  has flow  0\n",
            "(4, 5)  has flow  0\n",
            "(5, 6)  has flow  0\n",
            "(6, 3)  has flow  0\n",
            "(7, 8)  has flow  0\n",
            "Total Cost is  0\n"
          ]
        }
      ]
    },
    {
      "cell_type": "code",
      "source": [
        "c[1][2] = 6; c[2][1] = 6; c[1][4] = 4\n",
        "c[4][1] = 4; c[4][5] = 4; c[2][5] = 2\n",
        "c[5][2] = 2; c[5][6] = 5; c[6][5] = 5\n",
        "c[6][7] = 5; c[7][6] = 5; c[6][3] = 4\n",
        "c[7][8] = 4; c[8][7] = 4; c[8][3] = 5\n",
        "c[3][8] = 5; c[7][4] = 3;"
      ],
      "metadata": {
        "id": "L7Uy59IAVhFz"
      },
      "execution_count": 33,
      "outputs": []
    },
    {
      "cell_type": "code",
      "source": [
        "Iterate(Grev)"
      ],
      "metadata": {
        "colab": {
          "base_uri": "https://localhost:8080/"
        },
        "id": "b3YjFxZeVqw3",
        "outputId": "5c8f0d43-b393-406a-c3e5-10c7013fc0ea"
      },
      "execution_count": 34,
      "outputs": [
        {
          "output_type": "stream",
          "name": "stdout",
          "text": [
            "Incremental Network: {(1, 2), (2, 1), (6, 7), (8, 3), (7, 6), (2, 5), (4, 1), (5, 2), (7, 4), (3, 8), (6, 5), (8, 7), (1, 4), (4, 5), (5, 6), (6, 3), (7, 8)}\n",
            "Paths from source to sink:  {(1, 4, 5, 6, 7, 8), (1, 2, 5, 6, 7, 8), (1, 4, 5, 6, 3, 8), (1, 2, 5, 6, 3, 8)}\n",
            "A best path in Gp is  (1, 4, 5, 6, 7, 8)  of minimum cost  0\n",
            "The min capacity on this path is epsilon  4\n",
            "The min cost is  0\n",
            "(1, 2)  flow =  0\n",
            "(2, 1)  flow =  0\n",
            "(6, 7)  flow =  4\n",
            "(8, 3)  flow =  0\n",
            "(7, 6)  flow =  0\n",
            "(2, 5)  flow =  0\n",
            "(4, 1)  flow =  0\n",
            "(5, 2)  flow =  0\n",
            "(7, 4)  flow =  0\n",
            "(3, 8)  flow =  0\n",
            "(6, 5)  flow =  0\n",
            "(8, 7)  flow =  0\n",
            "(1, 4)  flow =  4\n",
            "(4, 5)  flow =  4\n",
            "(5, 6)  flow =  4\n",
            "(6, 3)  flow =  0\n",
            "(7, 8)  flow =  4\n"
          ]
        }
      ]
    },
    {
      "cell_type": "code",
      "source": [
        "Iterate(Grev)"
      ],
      "metadata": {
        "colab": {
          "base_uri": "https://localhost:8080/"
        },
        "id": "tPN_x38WVtK7",
        "outputId": "cda78119-4f21-4e7b-a790-617c27797a41"
      },
      "execution_count": 35,
      "outputs": [
        {
          "output_type": "stream",
          "name": "stdout",
          "text": [
            "Incremental Network: {(7, 4), (3, 8), (1, 2), (2, 1), (6, 5), (8, 7), (5, 4), (6, 7), (8, 3), (7, 6), (6, 3), (5, 6), (2, 5), (4, 1), (5, 2)}\n",
            "Paths from source to sink:  {(1, 2, 5, 6, 3, 8)}\n",
            "A best path in Gp is  (1, 2, 5, 6, 3, 8)  of minimum cost  0\n",
            "The min capacity on this path is epsilon  1\n",
            "The min cost is  0\n",
            "(1, 2)  flow =  1\n",
            "(2, 1)  flow =  0\n",
            "(6, 7)  flow =  4\n",
            "(8, 3)  flow =  0\n",
            "(7, 6)  flow =  0\n",
            "(2, 5)  flow =  1\n",
            "(4, 1)  flow =  0\n",
            "(5, 2)  flow =  0\n",
            "(7, 4)  flow =  0\n",
            "(3, 8)  flow =  1\n",
            "(6, 5)  flow =  0\n",
            "(8, 7)  flow =  0\n",
            "(1, 4)  flow =  4\n",
            "(4, 5)  flow =  4\n",
            "(5, 6)  flow =  5\n",
            "(6, 3)  flow =  1\n",
            "(7, 8)  flow =  4\n"
          ]
        }
      ]
    },
    {
      "cell_type": "code",
      "source": [
        "SourceSink(Grev)"
      ],
      "metadata": {
        "colab": {
          "base_uri": "https://localhost:8080/"
        },
        "id": "39iryBKSVuvP",
        "outputId": "c26ac165-b1fb-457d-c341-1805b54fd44f"
      },
      "execution_count": 36,
      "outputs": [
        {
          "output_type": "stream",
          "name": "stdout",
          "text": [
            "Paths from source to sink:  {(1, 4, 5, 6, 7, 8), (1, 2, 5, 6, 7, 8), (1, 4, 5, 6, 3, 8), (1, 2, 5, 6, 3, 8)}\n"
          ]
        }
      ]
    },
    {
      "cell_type": "code",
      "source": [
        "Iterate(Grev)"
      ],
      "metadata": {
        "colab": {
          "base_uri": "https://localhost:8080/"
        },
        "id": "RNH0V5PEWNc0",
        "outputId": "b0745ffb-bbce-41f1-fe22-5e6d1b8c0656"
      },
      "execution_count": 37,
      "outputs": [
        {
          "output_type": "stream",
          "name": "stdout",
          "text": [
            "Incremental Network: {(7, 4), (3, 8), (1, 2), (2, 1), (6, 5), (8, 7), (5, 4), (6, 7), (8, 3), (7, 6), (6, 3), (3, 6), (2, 5), (4, 1), (5, 2)}\n",
            "Paths from source to sink:  set()\n",
            "Maximal flow found: 5  with minimal cost  0\n",
            "(1, 2)  flow =  1\n",
            "(2, 1)  flow =  0\n",
            "(6, 7)  flow =  4\n",
            "(8, 3)  flow =  0\n",
            "(7, 6)  flow =  0\n",
            "(2, 5)  flow =  1\n",
            "(4, 1)  flow =  0\n",
            "(5, 2)  flow =  0\n",
            "(7, 4)  flow =  0\n",
            "(3, 8)  flow =  1\n",
            "(6, 5)  flow =  0\n",
            "(8, 7)  flow =  0\n",
            "(1, 4)  flow =  4\n",
            "(4, 5)  flow =  4\n",
            "(5, 6)  flow =  5\n",
            "(6, 3)  flow =  1\n",
            "(7, 8)  flow =  4\n"
          ]
        }
      ]
    },
    {
      "cell_type": "code",
      "source": [
        "# A->B Maximal flow : 6\n",
        "# B->A Maximal flow : 5"
      ],
      "metadata": {
        "id": "A3vOXNCOklXE"
      },
      "execution_count": null,
      "outputs": []
    }
  ],
  "metadata": {
    "kernelspec": {
      "display_name": "Python 3 (ipykernel)",
      "language": "python",
      "name": "python3"
    },
    "language_info": {
      "codemirror_mode": {
        "name": "ipython",
        "version": 3
      },
      "file_extension": ".py",
      "mimetype": "text/x-python",
      "name": "python",
      "nbconvert_exporter": "python",
      "pygments_lexer": "ipython3",
      "version": "3.11.4"
    },
    "colab": {
      "provenance": []
    }
  },
  "nbformat": 4,
  "nbformat_minor": 0
}